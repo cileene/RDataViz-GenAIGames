{
 "cells": [
  {
   "cell_type": "markdown",
   "metadata": {},
   "source": [
    "# The use of GenAI in the Games Industry\n",
    "Analyzing and visualizing our survey data\n"
   ]
  },
  {
   "cell_type": "markdown",
   "metadata": {},
   "source": [
    "## Setup\n",
    "First we import needed libraries and our data from a .xlsx file.\n"
   ]
  },
  {
   "cell_type": "code",
   "execution_count": 1,
   "metadata": {
    "vscode": {
     "languageId": "r"
    }
   },
   "outputs": [
    {
     "name": "stderr",
     "output_type": "stream",
     "text": [
      "-- \u001b[1mAttaching core tidyverse packages\u001b[22m ------------------------ tidyverse 2.0.0 --\n",
      "\u001b[32mv\u001b[39m \u001b[34mdplyr    \u001b[39m 1.1.4     \u001b[32mv\u001b[39m \u001b[34mreadr    \u001b[39m 2.1.5\n",
      "\u001b[32mv\u001b[39m \u001b[34mforcats  \u001b[39m 1.0.0     \u001b[32mv\u001b[39m \u001b[34mstringr  \u001b[39m 1.5.1\n",
      "\u001b[32mv\u001b[39m \u001b[34mggplot2  \u001b[39m 3.5.0     \u001b[32mv\u001b[39m \u001b[34mtibble   \u001b[39m 3.2.1\n",
      "\u001b[32mv\u001b[39m \u001b[34mlubridate\u001b[39m 1.9.3     \u001b[32mv\u001b[39m \u001b[34mtidyr    \u001b[39m 1.3.1\n",
      "\u001b[32mv\u001b[39m \u001b[34mpurrr    \u001b[39m 1.0.2     \n",
      "-- \u001b[1mConflicts\u001b[22m ------------------------------------------ tidyverse_conflicts() --\n",
      "\u001b[31mx\u001b[39m \u001b[34mdplyr\u001b[39m::\u001b[32mfilter()\u001b[39m masks \u001b[34mstats\u001b[39m::filter()\n",
      "\u001b[31mx\u001b[39m \u001b[34mdplyr\u001b[39m::\u001b[32mlag()\u001b[39m    masks \u001b[34mstats\u001b[39m::lag()\n",
      "\u001b[36mi\u001b[39m Use the conflicted package (\u001b[3m\u001b[34m<http://conflicted.r-lib.org/>\u001b[39m\u001b[23m) to force all conflicts to become errors\n",
      "\n",
      "lessR 4.3.2                         feedback: gerbing@pdx.edu \n",
      "--------------------------------------------------------------\n",
      "> d <- Read(\"\")   Read text, Excel, SPSS, SAS, or R data file\n",
      "  d is default data frame, data= in analysis routines optional\n",
      "\n",
      "Learn about reading, writing, and manipulating data, graphics,\n",
      "testing means and proportions, regression, factor analysis,\n",
      "customization, and descriptive statistics from pivot tables\n",
      "  Enter:  browseVignettes(\"lessR\")\n",
      "\n",
      "View changes in this and recent versions of lessR\n",
      "  Enter: news(package=\"lessR\")\n",
      "\n",
      "Interactive data analysis\n",
      "  Enter: interact()\n",
      "\n",
      "\n",
      "\n",
      "Vedhaefter pakke: 'lessR'\n",
      "\n",
      "\n",
      "De folgende objekter er maskerede fra 'package:dplyr':\n",
      "\n",
      "    recode, rename\n",
      "\n",
      "\n",
      "\n",
      "Vedhaefter pakke: 'reshape2'\n",
      "\n",
      "\n",
      "Det folgende objekt er maskeret fra 'package:tidyr':\n",
      "\n",
      "    smiths\n",
      "\n",
      "\n",
      "Indlaeser kraevet pakke: RColorBrewer\n",
      "\n",
      "Indlaeser kraevet pakke: NLP\n",
      "\n",
      "\n",
      "Vedhaefter pakke: 'NLP'\n",
      "\n",
      "\n",
      "Det folgende objekt er maskeret fra 'package:ggplot2':\n",
      "\n",
      "    annotate\n",
      "\n",
      "\n"
     ]
    }
   ],
   "source": [
    "# package for data manipulation including ggplot2\n",
    "library(tidyverse)\n",
    "\n",
    "# package for reading excel files\n",
    "library(readxl)\n",
    "\n",
    "# lessR package that I read about\n",
    "library(lessR)\n",
    "\n",
    "library(reshape2)\n",
    "library(ggcorrplot)\n",
    "\n",
    "library(wordcloud)\n",
    "library(tm)\n",
    "\n",
    "\n",
    "\n",
    "# read the excel file\n",
    "data <- read_excel(\"data/surveyData20240419.xlsx\")\n"
   ]
  },
  {
   "cell_type": "markdown",
   "metadata": {},
   "source": [
    "## What is the data?\n",
    "Now let's count the rows (number of respondents) and list the collumns (questions)."
   ]
  },
  {
   "cell_type": "code",
   "execution_count": 2,
   "metadata": {
    "vscode": {
     "languageId": "r"
    }
   },
   "outputs": [
    {
     "data": {
      "text/html": [
       "<style>\n",
       ".list-inline {list-style: none; margin:0; padding: 0}\n",
       ".list-inline>li {display: inline-block}\n",
       ".list-inline>li:not(:last-child)::after {content: \"\\00b7\"; padding: 0 .5ex}\n",
       "</style>\n",
       "<ol class=list-inline><li>304</li><li>74</li></ol>\n"
      ],
      "text/latex": [
       "\\begin{enumerate*}\n",
       "\\item 304\n",
       "\\item 74\n",
       "\\end{enumerate*}\n"
      ],
      "text/markdown": [
       "1. 304\n",
       "2. 74\n",
       "\n",
       "\n"
      ],
      "text/plain": [
       "[1] 304  74"
      ]
     },
     "metadata": {},
     "output_type": "display_data"
    },
    {
     "name": "stdout",
     "output_type": "stream",
     "text": [
      " [1] \"ID\"                                                                                                       \n",
      " [2] \"Start time\"                                                                                               \n",
      " [3] \"Completion time\"                                                                                          \n",
      " [4] \"Email\"                                                                                                    \n",
      " [5] \"Name\"                                                                                                     \n",
      " [6] \"Do you consider yourself a professional or hobbyist in Gamee\"                                             \n",
      " [7] \"What is the size of the team?\"                                                                            \n",
      " [8] \"What department(s) do you work in? Check all that applies.\"                                               \n",
      " [9] \"Do you utilize Generative AI in your work? Eg. ChatGPT, Midjourney, Copilot etc.\"                         \n",
      "[10] \"Is it something you have discovered on your own, or has it been provided by your workplace?\"              \n",
      "[11] \"Has it made you more efficient in your role?<U+00A0>\"                                                     \n",
      "[12] \"Has it made you better? Eg. More creative, being able to do things you couldn't before etc.\"              \n",
      "[13] \"Do you enjoy using Generative AI in your role? P\"                                                         \n",
      "[14] \"Question\"                                                                                                 \n",
      "[15] \"Do you enjoy using generative AI in your role?\"                                                           \n",
      "[16] \"Would you care to elaborate?\"                                                                             \n",
      "[17] \"Does your use of Generative AI impact how proud you are of your work?\"                                    \n",
      "[18] \"Would you care to elaborate?2\"                                                                            \n",
      "[19] \"Are you and/or your team open about your use of Generative AI?\"                                           \n",
      "[20] \"Would you care to elaborate?3\"                                                                            \n",
      "[21] \"Question2\"                                                                                                \n",
      "[22] \"Do you consider yourself a professional or a hobbyist in game development?\"                               \n",
      "[23] \"Primary area of work?\"                                                                                    \n",
      "[24] \"Years of experience in game development?\"                                                                 \n",
      "[25] \"Are you in a lead role?\"                                                                                  \n",
      "[26] \"Team size?\"                                                                                               \n",
      "[27] \"Column1\"                                                                                                  \n",
      "[28] \"Statement 2\"                                                                                              \n",
      "[29] \"Question3\"                                                                                                \n",
      "[30] \"Overall stance on Generative AI?\"                                                                         \n",
      "[31] \"Column2\"                                                                                                  \n",
      "[32] \"Statement 22\"                                                                                             \n",
      "[33] \"Which areas do you think are less<U+00A0>\"                                                                \n",
      "[34] \"Art & Assets\"                                                                                             \n",
      "[35] \"Level Design\"                                                                                             \n",
      "[36] \"Storytelling\"                                                                                             \n",
      "[37] \"Sound Design\"                                                                                             \n",
      "[38] \"Voice Overs & Acting\"                                                                                     \n",
      "[39] \"Programming\"                                                                                              \n",
      "[40] \"Game Design\"                                                                                              \n",
      "[41] \"Marketing & PR\"                                                                                           \n",
      "[42] \"Music\"                                                                                                    \n",
      "[43] \"Community management\"                                                                                     \n",
      "[44] \"Initial prototyping\"                                                                                      \n",
      "[45] \"Do you use Generative AI in your work?\"                                                                   \n",
      "[46] \"Was it your own idea to begin using Generative AI or your employers?\"                                     \n",
      "[47] \"Efficiency?\"                                                                                              \n",
      "[48] \"Quality?\"                                                                                                 \n",
      "[49] \"Enjoyment?\"                                                                                               \n",
      "[50] \"Do you think of the ability to use Generative AI as an actual and useful competence in your area of work?\"\n",
      "[51] \"Do your coworkers use Generative AI in their work?\"                                                       \n",
      "[52] \"Do your peers in the industry use Generative AI in their work?\"                                           \n",
      "[53] \"Do you disclose your use of Generative AI internally?\"                                                    \n",
      "[54] \"Do you disclose your use of Generative AI externally?\"                                                    \n",
      "[55] \"Do you perceive any stigma associated with the use of Generative AI internally?\"                          \n",
      "[56] \"Do you perceive any stigma associated with the use of Generative AI externally?\"                          \n",
      "[57] \"Would you care to elaborate?5\"                                                                            \n",
      "[58] \"Would you care to elaborate?4\"                                                                            \n",
      "[59] \"It will help shorten development timelines\"                                                               \n",
      "[60] \"It will lead to more individualized gaming experiences\"                                                   \n",
      "[61] \"It will impact staffing decisions\"                                                                        \n",
      "[62] \"It will lead to smaller team sizes\"                                                                       \n",
      "[63] \"It will democratize game development\"                                                                     \n",
      "[64] \"It will make it cheaper to develop games\"                                                                 \n",
      "[65] \"It will lead to lower quality games\"                                                                      \n",
      "[66] \"It will lead to better games\"                                                                             \n",
      "[67] \"What do you think will be the most promising innovations from Generative AI in game development?\"         \n",
      "[68] \"What do you think will be the most negative consequences of Generative AI in game development?\"           \n",
      "[69] \"Statement 1\"                                                                                              \n",
      "[70] \"Statement 23\"                                                                                             \n",
      "[71] \"Question4\"                                                                                                \n",
      "[72] \"What would be your ideal future Generative AI driven tool, that could help you in your area of work?\"     \n",
      "[73] \"Creativity?\"                                                                                              \n",
      "[74] \"Anything else we should know / feedback?\"                                                                 \n"
     ]
    }
   ],
   "source": [
    "# count the number of rows (people) and columns (answers)\n",
    "dim(data)\n",
    "\n",
    "# store the column names in columnNames\n",
    "columnNames <- names(data)\n",
    "\n",
    "# change the column names to be numbers\n",
    "names(data) <- c(1:ncol(data))\n",
    "\n",
    "# list the new column names with the old names stored in columnNames\n",
    "print(columnNames, names(data))\n"
   ]
  },
  {
   "cell_type": "markdown",
   "metadata": {},
   "source": [
    "## Proffesionals vs Hobbyists\n",
    "Now let's compare the proffesionals and the hobbyists."
   ]
  },
  {
   "cell_type": "markdown",
   "metadata": {},
   "source": [
    "### Distribution"
   ]
  },
  {
   "cell_type": "code",
   "execution_count": 3,
   "metadata": {
    "vscode": {
     "languageId": "r"
    }
   },
   "outputs": [
    {
     "data": {
      "text/html": [
       "<table class=\"dataframe\">\n",
       "<caption>A tibble: 2 x 3</caption>\n",
       "<thead>\n",
       "\t<tr><th scope=col>22</th><th scope=col>n</th><th scope=col>percentage</th></tr>\n",
       "\t<tr><th scope=col>&lt;chr&gt;</th><th scope=col>&lt;int&gt;</th><th scope=col>&lt;dbl&gt;</th></tr>\n",
       "</thead>\n",
       "<tbody>\n",
       "\t<tr><td>Hobbyist    </td><td>200</td><td>65.78947</td></tr>\n",
       "\t<tr><td>Professional</td><td>104</td><td>34.21053</td></tr>\n",
       "</tbody>\n",
       "</table>\n"
      ],
      "text/latex": [
       "A tibble: 2 x 3\n",
       "\\begin{tabular}{lll}\n",
       " 22 & n & percentage\\\\\n",
       " <chr> & <int> & <dbl>\\\\\n",
       "\\hline\n",
       "\t Hobbyist     & 200 & 65.78947\\\\\n",
       "\t Professional & 104 & 34.21053\\\\\n",
       "\\end{tabular}\n"
      ],
      "text/markdown": [
       "\n",
       "A tibble: 2 x 3\n",
       "\n",
       "| 22 &lt;chr&gt; | n &lt;int&gt; | percentage &lt;dbl&gt; |\n",
       "|---|---|---|\n",
       "| Hobbyist     | 200 | 65.78947 |\n",
       "| Professional | 104 | 34.21053 |\n",
       "\n"
      ],
      "text/plain": [
       "  22           n   percentage\n",
       "1 Hobbyist     200 65.78947  \n",
       "2 Professional 104 34.21053  "
      ]
     },
     "metadata": {},
     "output_type": "display_data"
    },
    {
     "ename": "ERROR",
     "evalue": "Error in eval(expr, envir, enclos): objekt 'survey_data' blev ikke fundet\n",
     "output_type": "error",
     "traceback": [
      "Error in eval(expr, envir, enclos): objekt 'survey_data' blev ikke fundet\nTraceback:\n",
      "1. labs(title = names(survey_data)[6])",
      "2. dots_list(..., title = title, subtitle = subtitle, caption = caption, \n .     tag = tag, alt = alt, alt_insight = alt_insight, .ignore_empty = \"all\")"
     ]
    }
   ],
   "source": [
    "# Show the percentage of\n",
    "# Do you consider yourself a professional or a hobbyist in game development?\n",
    "data %>%\n",
    "  count(`22`) %>%\n",
    "  mutate(percentage = n / sum(n) * 100)\n",
    "\n",
    "# Make a pie chart of the data\n",
    "data %>%\n",
    "  count(`22`) %>%\n",
    "  ggplot(aes(\n",
    "    x = \"\", y = n, fill =\n",
    "      `22`\n",
    "  )) +\n",
    "  geom_bar(stat = \"identity\", width = 1) +\n",
    "  coord_polar(\"y\", start = 0) +\n",
    "  theme_void() +\n",
    "  theme(\n",
    "    legend.position = \"bottom\"\n",
    "  ) + \n",
    "  labs(\n",
    "    title = names(survey_data)[6]\n",
    "  ) +\n",
    "  scale_fill_brewer(palette = \"Set2\")"
   ]
  },
  {
   "cell_type": "markdown",
   "metadata": {},
   "source": [
    "### Do they use GenAI?"
   ]
  },
  {
   "cell_type": "code",
   "execution_count": null,
   "metadata": {
    "vscode": {
     "languageId": "r"
    }
   },
   "outputs": [],
   "source": [
    "# Show the percentage of Do you use Generative AI in ypur work?\n",
    "data %>%\n",
    "  count(`45`) %>%\n",
    "  mutate(percentage = n / sum(n) * 100)\n",
    "\n",
    "# Make a pie chart of the data\n",
    "data %>%\n",
    "  count(`45`) %>%\n",
    "  ggplot(aes(x = \"\", y = n, fill = `45`)) +\n",
    "  geom_bar(stat = \"identity\", width = 1) +\n",
    "  coord_polar(\"y\", start = 0) +\n",
    "  theme_void() +\n",
    "  theme(legend.position = \"bottom\") +\n",
    "  labs(title = \"Do you use Generative AI in your work?\") +\n",
    "  scale_fill_brewer(palette = \"Set2\")\n"
   ]
  },
  {
   "cell_type": "code",
   "execution_count": null,
   "metadata": {
    "vscode": {
     "languageId": "r"
    }
   },
   "outputs": [],
   "source": [
    "# Show the percentage of Do you use Generative AI in your work? by\n",
    "# Do you consider yourself a professional or a hobbyist in game development?\n",
    "data %>%\n",
    "  count(\n",
    "    `22`,\n",
    "    `45`\n",
    "  ) %>%\n",
    "  group_by(`22`) %>%\n",
    "  mutate(percentage = n / sum(n) * 100)\n",
    "\n",
    "# Make a stacked bar chart  with percentage as y axis of Do you use Generative AI in your work? by\n",
    "# Do you consider yourself a professional or a hobbyist in game development?\n",
    "data %>%\n",
    "  count(\n",
    "    `22`,\n",
    "    `45`\n",
    "  ) %>%\n",
    "  ggplot(aes(\n",
    "    x = `22`,\n",
    "    y = n,\n",
    "    fill = `45`\n",
    "  )) +\n",
    "  geom_bar(stat = \"identity\") +\n",
    "  labs(\n",
    "    title = \"Do you use Generative AI in your work? by Do you consider yourself a professional or a hobbyist in game development?\",\n",
    "    x = \"Do you consider yourself a professional or a hobbyist in game development?\",\n",
    "    y = \"Count\"\n",
    "  ) +\n",
    "  theme(axis.text.x = element_text(angle = 45, hjust = 1)) +\n",
    "  scale_fill_brewer(palette = \"Set2\")\n"
   ]
  },
  {
   "cell_type": "markdown",
   "metadata": {},
   "source": [
    "### Overall stance on GenAI"
   ]
  },
  {
   "cell_type": "code",
   "execution_count": null,
   "metadata": {
    "vscode": {
     "languageId": "r"
    }
   },
   "outputs": [],
   "source": [
    "# Show the data from the likert scale question Overall stance on Generative AI?\n",
    "# And order it from left to right \"Very negative\", \"Negative\", \"Neutral\", \"Positive\", \"Very positive\"\n",
    "data %>%\n",
    "  count(`31`) %>%\n",
    "  mutate(percentage = n / sum(n) * 100) %>%\n",
    "  mutate(`31` = factor(\n",
    "    `31`,\n",
    "    levels = c(\"Very negative\", \"Negative\", \"Neutral\", \"Positive\", \"Very positive\")\n",
    "  )) %>%\n",
    "  arrange(`31`)\n",
    "\n",
    "# Make a chart of the data\n",
    "data %>%\n",
    "  count(`31`) %>%\n",
    "  mutate(`Column2` = factor(\n",
    "    `31`,\n",
    "    levels = c(\"Very negative\", \"Negative\", \"Neutral\", \"Positive\", \"Very positive\")\n",
    "  )) %>%\n",
    "  ggplot(aes(x = `31`, y = n)) +\n",
    "  geom_bar(stat = \"identity\") +\n",
    "  labs(title = \"Overall stance on Generative AI?\") +\n",
    "  theme(axis.text.x = element_text(angle = 45, hjust = 1)) +\n",
    "  scale_x_discrete(\n",
    "    breaks = c(\"Very negative\", \"Negative\", \"Neutral\", \"Positive\", \"Very positive\"),\n",
    "    labels = c(\"Very negative\", \"Negative\", \"Neutral\", \"Positive\", \"Very positive\")\n",
    "  )\n",
    "\n",
    "# Take the above data and make a stacked bar chart by\n",
    "# Do you consider yourself a professional or a hobbyist in game development?\n",
    "# And show the y-axis as a percentage and order it from \"Very negative\", \"Negative\", \"Neutral\", \"Positive\", \"Very positive\"\n",
    "data %>%\n",
    "  count(\n",
    "    `22`,\n",
    "    `31`\n",
    "  ) %>%\n",
    "  group_by(`22`) %>%\n",
    "  mutate(percentage = n / sum(n) * 100) %>%\n",
    "  mutate(`31` = factor(\n",
    "    `31`,\n",
    "    levels = c(\"Very negative\", \"Negative\", \"Neutral\", \"Positive\", \"Very positive\")\n",
    "  )) %>%\n",
    "  ggplot(aes(\n",
    "    x = `22`,\n",
    "    y = percentage, fill = `31`\n",
    "  )) +\n",
    "  geom_bar(stat = \"identity\", position = \"stack\") +\n",
    "  labs(title = \"Overall stance on Generative AI? by\n",
    "  Do you consider yourself a professional or a hobbyist in game development?\") +\n",
    "  scale_fill_brewer(palette = \"Set2\")\n"
   ]
  },
  {
   "cell_type": "markdown",
   "metadata": {},
   "source": [
    "## Years of professional experience"
   ]
  },
  {
   "cell_type": "markdown",
   "metadata": {},
   "source": [
    "### Does experience change attitudes towards GenAI?"
   ]
  },
  {
   "cell_type": "code",
   "execution_count": null,
   "metadata": {
    "vscode": {
     "languageId": "r"
    }
   },
   "outputs": [],
   "source": [
    "# Make a stacked barchart showing Years of experience in game development? by Do you use Generative AI in your work? in percentages\n",
    "# And order the x-axis from left to right \"0-1 years, 2-4 years, 5-9 years, 10-14 years, 15-19 years, 20 years or more\"\n",
    "data %>%\n",
    "  count(\n",
    "    `24`,\n",
    "    `45`\n",
    "  ) %>%\n",
    "  group_by(`24`) %>%\n",
    "  mutate(percentage = n / sum(n) * 100) %>%\n",
    "  mutate(`24` = factor(\n",
    "    `24`,\n",
    "    levels = c(\n",
    "      \"0-1 years\",\n",
    "      \"2-4 years\",\n",
    "      \"5-9 years\",\n",
    "      \"10-14 years\",\n",
    "      \"15-19 years\",\n",
    "      \"20 years or more\"\n",
    "    )\n",
    "  )) %>%\n",
    "  ggplot(aes(\n",
    "    x = `24`,\n",
    "    y = percentage, fill = `45`\n",
    "  )) +\n",
    "  geom_bar(stat = \"identity\", position = \"stack\") +\n",
    "  labs(title = \"Years of experience in game development? by Do you use Generative AI in your work?\") +\n",
    "  theme(axis.text.x = element_text(angle = 45, hjust = 1)) +\n",
    "  scale_fill_brewer(palette = \"Set2\")\n"
   ]
  },
  {
   "cell_type": "code",
   "execution_count": null,
   "metadata": {
    "vscode": {
     "languageId": "r"
    }
   },
   "outputs": [],
   "source": [
    "# Make a stacked barchart showing Years of experience in game development? by Column2 in percentages\n",
    "# And order the x-axis from left to right \"0-1 years, 2-4 years, 5-9 years, 10-14 years, 15-19 years, 20 years or more\"\n",
    "data %>%\n",
    "  count(`24`, `31`) %>%\n",
    "  group_by(`24`) %>%\n",
    "  mutate(percentage = n / sum(n) * 100) %>%\n",
    "  mutate(\n",
    "    `Years of experience in game development?` = factor(`24`, levels = c(\n",
    "      \"0-1 years\",\n",
    "      \"2-4 years\",\n",
    "      \"5-9 years\",\n",
    "      \"10-14 years\",\n",
    "      \"15-19 years\",\n",
    "      \"20 years or more\"\n",
    "    )),\n",
    "    `31` = factor(`31`, levels = c(\"Very negative\", \"Negative\", \"Neutral\", \"Positive\", \"Very positive\"))\n",
    "  ) %>%\n",
    "  ggplot(aes(\n",
    "    x = `Years of experience in game development?`,\n",
    "    y = percentage, fill = `31`\n",
    "  )) +\n",
    "  geom_bar(stat = \"identity\", position = \"stack\") +\n",
    "  labs(title = \"Years of experience in game development? by Overall stance on Generative AI?\") +\n",
    "  theme(axis.text.x = element_text(angle = 45, hjust = 1)) +\n",
    "  scale_fill_brewer(palette = \"Set2\")\n"
   ]
  },
  {
   "cell_type": "markdown",
   "metadata": {},
   "source": [
    "## Stance on GenAI"
   ]
  },
  {
   "cell_type": "markdown",
   "metadata": {},
   "source": [
    "### Benefits of GenAI"
   ]
  },
  {
   "cell_type": "code",
   "execution_count": null,
   "metadata": {
    "vscode": {
     "languageId": "r"
    }
   },
   "outputs": [],
   "source": [
    "# A horizontal stacked bar chart showing the usefulnes of GenAI in different categories in percentages\n",
    "# and exchanging the column number for the coresponding columnNames\n",
    "data %>%\n",
    "  count(\n",
    "    `34`,\n",
    "    `35`,\n",
    "    `36`,\n",
    "    `37`,\n",
    "    `38`,\n",
    "    `39`,\n",
    "    `40`,\n",
    "    `41`,\n",
    "    `42`,\n",
    "    `43`,\n",
    "    `44`\n",
    "  ) %>%\n",
    "  gather(key = \"category\", value = \"value\", -n) %>%\n",
    "  group_by(category) %>%\n",
    "  mutate(percentage = n / sum(n) * 100) %>%\n",
    "  mutate(category = columnNames[as.numeric(category)]) %>%\n",
    "  ggplot(aes(\n",
    "    x = category,\n",
    "    y = percentage,\n",
    "    fill = value\n",
    "  )) +\n",
    "  geom_bar(stat = \"identity\", position = \"stack\") +\n",
    "  labs(title = \"How useful do you think Generative AI is in the following categories?\") +\n",
    "  theme(axis.text.x = element_text(angle = 45, hjust = 1)) +\n",
    "  scale_fill_brewer(palette = \"Set2\")"
   ]
  },
  {
   "cell_type": "code",
   "execution_count": null,
   "metadata": {
    "vscode": {
     "languageId": "r"
    }
   },
   "outputs": [],
   "source": [
    "# show a top ten of the longest answer time by looking at \"Start time\" and \"Completion time\" and show the\n",
    "data %>%\n",
    "  mutate(\n",
    "    `Start time` = as.POSIXct(`2`, format = \"%Y-%m-%d %H:%M:%S\"),\n",
    "    `Completion time` = as.POSIXct(`3`, format = \"%Y-%m-%d %H:%M:%S\")\n",
    "  ) %>%\n",
    "  mutate(answer_time = `3` - `2`) %>%\n",
    "  arrange(desc(answer_time)) %>%\n",
    "  select(`2`, `3`, answer_time) %>%\n",
    "  head(10)\n"
   ]
  }
 ],
 "metadata": {
  "kernelspec": {
   "display_name": "R",
   "language": "R",
   "name": "ir"
  },
  "language_info": {
   "codemirror_mode": "r",
   "file_extension": ".r",
   "mimetype": "text/x-r-source",
   "name": "R",
   "pygments_lexer": "r",
   "version": "4.3.3"
  }
 },
 "nbformat": 4,
 "nbformat_minor": 2
}
